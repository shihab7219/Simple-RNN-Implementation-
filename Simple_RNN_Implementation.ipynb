{
  "nbformat": 4,
  "nbformat_minor": 0,
  "metadata": {
    "colab": {
      "name": "Simple RNN Implementation.ipynb",
      "provenance": []
    },
    "kernelspec": {
      "name": "python3",
      "display_name": "Python 3"
    },
    "language_info": {
      "name": "python"
    }
  },
  "cells": [
    {
      "cell_type": "code",
      "execution_count": 1,
      "metadata": {
        "id": "ggCWlwWkujLi"
      },
      "outputs": [],
      "source": [
        "import numpy as np\n",
        "import tensorflow as tf\n",
        "\n",
        "from tensorflow.keras.models import Sequential\n",
        "from tensorflow.keras.layers import TimeDistributed, Dense, SimpleRNN, RepeatVector\n",
        "from tensorflow.keras.callbacks import EarlyStopping, LambdaCallback\n",
        "\n",
        "from termcolor import colored"
      ]
    },
    {
      "cell_type": "code",
      "source": [
        "allChars = \"90348756921+\""
      ],
      "metadata": {
        "id": "x-reB0-ywczd"
      },
      "execution_count": 2,
      "outputs": []
    },
    {
      "cell_type": "code",
      "source": [
        "len(allChars)\n",
        "char_to_index = dict((c, i) for i, c in enumerate(allChars))\n",
        "index_to_char = dict((i, c) for i, c in enumerate(allChars))"
      ],
      "metadata": {
        "id": "dosrI5PkweQ7"
      },
      "execution_count": 3,
      "outputs": []
    },
    {
      "cell_type": "code",
      "source": [
        "char_to_index"
      ],
      "metadata": {
        "colab": {
          "base_uri": "https://localhost:8080/"
        },
        "id": "GiAbI0FPwlFD",
        "outputId": "177ff267-ae8e-4e38-f331-d1d11ab5005c"
      },
      "execution_count": 4,
      "outputs": [
        {
          "output_type": "execute_result",
          "data": {
            "text/plain": [
              "{'+': 11,\n",
              " '0': 1,\n",
              " '1': 10,\n",
              " '2': 9,\n",
              " '3': 2,\n",
              " '4': 3,\n",
              " '5': 6,\n",
              " '6': 7,\n",
              " '7': 5,\n",
              " '8': 4,\n",
              " '9': 8}"
            ]
          },
          "metadata": {},
          "execution_count": 4
        }
      ]
    },
    {
      "cell_type": "code",
      "source": [
        "def numberGenerate():\n",
        "    firstNumber = np.random.randint(3, 10)\n",
        "    SecNumber = np.random.randint(3, 10)\n",
        "    newValue = str(firstNumber) + \"+\"+str(SecNumber)\n",
        "    finalValue = str(firstNumber+SecNumber)\n",
        "    return newValue, finalValue"
      ],
      "metadata": {
        "id": "ZPuGO_M8wlHq"
      },
      "execution_count": 5,
      "outputs": []
    },
    {
      "cell_type": "code",
      "source": [
        "numberGenerate()"
      ],
      "metadata": {
        "colab": {
          "base_uri": "https://localhost:8080/"
        },
        "id": "_diY2M8-wlKS",
        "outputId": "27da0ac5-fa44-49f1-f608-afe0056f6b5b"
      },
      "execution_count": 6,
      "outputs": [
        {
          "output_type": "execute_result",
          "data": {
            "text/plain": [
              "('4+5', '9')"
            ]
          },
          "metadata": {},
          "execution_count": 6
        }
      ]
    },
    {
      "cell_type": "code",
      "source": [
        "model = Sequential([\n",
        "    \n",
        "    SimpleRNN(128, input_shape = (None, len(allChars))),\n",
        "    RepeatVector(3),\n",
        "    \n",
        "    \n",
        "    SimpleRNN(128, return_sequences = True),\n",
        "    TimeDistributed(Dense(len(allChars), activation = \"softmax\"))])"
      ],
      "metadata": {
        "id": "D118rwhEwlMz"
      },
      "execution_count": 7,
      "outputs": []
    },
    {
      "cell_type": "code",
      "source": [
        "model.compile(loss = \"categorical_crossentropy\",\n",
        "             optimizer = \"adam\", \n",
        "             metrics = [\"accuracy\"])"
      ],
      "metadata": {
        "id": "EDWBBd_DwlPi"
      },
      "execution_count": 8,
      "outputs": []
    },
    {
      "cell_type": "code",
      "source": [
        "model.summary()"
      ],
      "metadata": {
        "colab": {
          "base_uri": "https://localhost:8080/"
        },
        "id": "TzRKEbBxwlSb",
        "outputId": "9830c9ec-fe0a-4c5e-f4aa-dcb9cc83dd17"
      },
      "execution_count": 9,
      "outputs": [
        {
          "output_type": "stream",
          "name": "stdout",
          "text": [
            "Model: \"sequential\"\n",
            "_________________________________________________________________\n",
            " Layer (type)                Output Shape              Param #   \n",
            "=================================================================\n",
            " simple_rnn (SimpleRNN)      (None, 128)               18048     \n",
            "                                                                 \n",
            " repeat_vector (RepeatVector  (None, 3, 128)           0         \n",
            " )                                                               \n",
            "                                                                 \n",
            " simple_rnn_1 (SimpleRNN)    (None, 3, 128)            32896     \n",
            "                                                                 \n",
            " time_distributed (TimeDistr  (None, 3, 12)            1548      \n",
            " ibuted)                                                         \n",
            "                                                                 \n",
            "=================================================================\n",
            "Total params: 52,492\n",
            "Trainable params: 52,492\n",
            "Non-trainable params: 0\n",
            "_________________________________________________________________\n"
          ]
        }
      ]
    },
    {
      "cell_type": "code",
      "source": [
        "def vector(newvalue, finalvalue):\n",
        "    \n",
        "    x = np.zeros((3, len(allChars)))\n",
        "    y = np.zeros((3, len(allChars)))\n",
        "    \n",
        "    difference_x = 3 - len(newvalue)\n",
        "    difference_y = 3 - len(finalvalue)\n",
        "    \n",
        "    \n",
        "    for i, c in enumerate(newvalue):\n",
        "        x[difference_x + i, char_to_index[c]] = 1\n",
        "        \n",
        "    for i in range(difference_x):\n",
        "        x[i, difference_x[\"0\"]] = 1\n",
        "    \n",
        "    \n",
        "    for i, c in enumerate(finalvalue):\n",
        "        y[difference_y + i, char_to_index[c]] = 1\n",
        "        \n",
        "    for i in range(difference_y):\n",
        "        y[i, char_to_index[\"0\"]] = 1  \n",
        "    \n",
        "    return x, y"
      ],
      "metadata": {
        "id": "JO9xb6orwlVK"
      },
      "execution_count": 11,
      "outputs": []
    },
    {
      "cell_type": "code",
      "source": [
        "newValue, finalValue = numberGenerate()"
      ],
      "metadata": {
        "id": "-4us2TYPwlYS"
      },
      "execution_count": 12,
      "outputs": []
    },
    {
      "cell_type": "code",
      "source": [
        "print(\"New Value: \", newValue)\n",
        "print(\"Final Value: \", finalValue)"
      ],
      "metadata": {
        "colab": {
          "base_uri": "https://localhost:8080/"
        },
        "id": "lmGN0Ti0w1QD",
        "outputId": "efac0d78-1a80-4017-eada-0d3fe01903f4"
      },
      "execution_count": 13,
      "outputs": [
        {
          "output_type": "stream",
          "name": "stdout",
          "text": [
            "New Value:  3+5\n",
            "Final Value:  8\n"
          ]
        }
      ]
    },
    {
      "cell_type": "code",
      "source": [
        "x, y = vector(newValue, finalValue)"
      ],
      "metadata": {
        "id": "3tGraOu9w1S7"
      },
      "execution_count": 14,
      "outputs": []
    },
    {
      "cell_type": "code",
      "source": [
        "print(\"X Value: \", x)\n",
        "print(\"\\n\")\n",
        "print(\"Y Value: \", y)"
      ],
      "metadata": {
        "colab": {
          "base_uri": "https://localhost:8080/"
        },
        "id": "orhOYVTcw1Vi",
        "outputId": "8cab6631-396c-41d9-be97-e3eadf04e6fe"
      },
      "execution_count": 15,
      "outputs": [
        {
          "output_type": "stream",
          "name": "stdout",
          "text": [
            "X Value:  [[0. 0. 1. 0. 0. 0. 0. 0. 0. 0. 0. 0.]\n",
            " [0. 0. 0. 0. 0. 0. 0. 0. 0. 0. 0. 1.]\n",
            " [0. 0. 0. 0. 0. 0. 1. 0. 0. 0. 0. 0.]]\n",
            "\n",
            "\n",
            "Y Value:  [[0. 1. 0. 0. 0. 0. 0. 0. 0. 0. 0. 0.]\n",
            " [0. 1. 0. 0. 0. 0. 0. 0. 0. 0. 0. 0.]\n",
            " [0. 0. 0. 0. 1. 0. 0. 0. 0. 0. 0. 0.]]\n"
          ]
        }
      ]
    },
    {
      "cell_type": "code",
      "source": [
        "def ReturnVector(value):\n",
        "    data = [index_to_char[np.argmax(vector)] for i, vector in enumerate(value)]\n",
        "    return \"\".join(data)"
      ],
      "metadata": {
        "id": "LDIrdWkNw1YD"
      },
      "execution_count": 16,
      "outputs": []
    },
    {
      "cell_type": "code",
      "source": [
        "ReturnVector(x)"
      ],
      "metadata": {
        "colab": {
          "base_uri": "https://localhost:8080/",
          "height": 36
        },
        "id": "mRLFJdAqw1a0",
        "outputId": "7bc33ce5-5bd2-4c48-aac1-634632f669e7"
      },
      "execution_count": 17,
      "outputs": [
        {
          "output_type": "execute_result",
          "data": {
            "text/plain": [
              "'3+5'"
            ],
            "application/vnd.google.colaboratory.intrinsic+json": {
              "type": "string"
            }
          },
          "metadata": {},
          "execution_count": 17
        }
      ]
    },
    {
      "cell_type": "code",
      "source": [
        "ReturnVector(y)"
      ],
      "metadata": {
        "colab": {
          "base_uri": "https://localhost:8080/",
          "height": 36
        },
        "id": "0OfY3tHlw1cq",
        "outputId": "797e7513-33c5-4b27-9e5a-b5b7b874e8ee"
      },
      "execution_count": 18,
      "outputs": [
        {
          "output_type": "execute_result",
          "data": {
            "text/plain": [
              "'008'"
            ],
            "application/vnd.google.colaboratory.intrinsic+json": {
              "type": "string"
            }
          },
          "metadata": {},
          "execution_count": 18
        }
      ]
    },
    {
      "cell_type": "code",
      "source": [
        "def trainData_and_TestData(num_samples = 100000):\n",
        "    \n",
        "    x_trainData = np.zeros((num_samples, 3, len(allChars)))\n",
        "    y_trainData = np.zeros((num_samples, 3, len(allChars)))\n",
        "    \n",
        "    \n",
        "    for i in range(num_samples):\n",
        "        newValue, finalValue = numberGenerate()\n",
        "        x, y = vector(newValue, finalValue)\n",
        "        \n",
        "        x_trainData[i] = x\n",
        "        y_trainData[i] = y\n",
        "        \n",
        "    return x_trainData, y_trainData"
      ],
      "metadata": {
        "id": "nVWJdJTqwla6"
      },
      "execution_count": 19,
      "outputs": []
    },
    {
      "cell_type": "code",
      "source": [
        "x_trainData, y_trainData = trainData_and_TestData()"
      ],
      "metadata": {
        "id": "an5xuWEuxCjz"
      },
      "execution_count": 20,
      "outputs": []
    },
    {
      "cell_type": "code",
      "source": [
        "x_trainData.shape"
      ],
      "metadata": {
        "colab": {
          "base_uri": "https://localhost:8080/"
        },
        "id": "YZJX6cKmxCmj",
        "outputId": "4a07e975-37fa-4619-bc03-f0330ea055df"
      },
      "execution_count": 21,
      "outputs": [
        {
          "output_type": "execute_result",
          "data": {
            "text/plain": [
              "(100000, 3, 12)"
            ]
          },
          "metadata": {},
          "execution_count": 21
        }
      ]
    },
    {
      "cell_type": "code",
      "source": [
        "ReturnVector(y_trainData[0])"
      ],
      "metadata": {
        "colab": {
          "base_uri": "https://localhost:8080/",
          "height": 36
        },
        "id": "O91-zrdqxCpS",
        "outputId": "3fe01ba3-ff80-4912-fbaf-ec93865f802e"
      },
      "execution_count": 22,
      "outputs": [
        {
          "output_type": "execute_result",
          "data": {
            "text/plain": [
              "'011'"
            ],
            "application/vnd.google.colaboratory.intrinsic+json": {
              "type": "string"
            }
          },
          "metadata": {},
          "execution_count": 22
        }
      ]
    },
    {
      "cell_type": "code",
      "source": [
        "Call_backs =  LambdaCallback(\n",
        "    on_epoch_end = lambda newValue, finalValue: print(\"{:.2f}\".format(finalValue[\"accuracy\"]), end = \"|\"))\n",
        "\n",
        "earlyStop = EarlyStopping(monitor = \"val_loss\", patience=10)"
      ],
      "metadata": {
        "id": "vZAjPJVFwlgK"
      },
      "execution_count": 23,
      "outputs": []
    },
    {
      "cell_type": "code",
      "source": [
        "model.fit(x_trainData, \n",
        "         y_trainData,\n",
        "         epochs=10,\n",
        "         validation_split=0.2, \n",
        "         verbose = False, \n",
        "         callbacks = [Call_backs, earlyStop])"
      ],
      "metadata": {
        "colab": {
          "base_uri": "https://localhost:8080/"
        },
        "id": "ywS-68NaxI1k",
        "outputId": "44c9c0e3-7125-4041-f904-e71da0d5b653"
      },
      "execution_count": 24,
      "outputs": [
        {
          "output_type": "stream",
          "name": "stdout",
          "text": [
            "0.99|1.00|1.00|1.00|1.00|1.00|1.00|1.00|1.00|1.00|"
          ]
        },
        {
          "output_type": "execute_result",
          "data": {
            "text/plain": [
              "<keras.callbacks.History at 0x7fa924e042d0>"
            ]
          },
          "metadata": {},
          "execution_count": 24
        }
      ]
    },
    {
      "cell_type": "code",
      "source": [
        "x_test, y_test = trainData_and_TestData(num_samples= 3)\n",
        "predictedvalue = model.predict(x_test)\n",
        "\n",
        "\n",
        "sequenceAccuracy = 0\n",
        "\n",
        "for i, predictedData in enumerate(predictedvalue):\n",
        "    predData = ReturnVector(predictedData)\n",
        "    \n",
        "    y_testData = ReturnVector(y_test[i])\n",
        "    x_testData = ReturnVector(x_test[i])\n",
        "    \n",
        "    #sucess = \"green\" if predData == y_testData else \"red\"\n",
        "    initialP = int(predData == y_testData)\n",
        "    sequenceAccuracy += 1/len(predData)*initialP\n",
        "    #print(\"Pred\", predData)\n",
        "    #print(\"Initial\", initialP)\n",
        "    \n",
        "    \n",
        "    result = \"New Value: {}, Final value: {}, PredictedData: {}\".format(x_testData, y_testData, predData)\n",
        "    #print(colored(sucess, result))\n",
        "    \n",
        "print(\"Final Accuracy is : {:.3f}%\".format(100*sequenceAccuracy))"
      ],
      "metadata": {
        "colab": {
          "base_uri": "https://localhost:8080/"
        },
        "id": "aL2i6I6axI4E",
        "outputId": "745a6170-2253-45e1-b7fd-76c775af00da"
      },
      "execution_count": 25,
      "outputs": [
        {
          "output_type": "stream",
          "name": "stdout",
          "text": [
            "Final Accuracy is : 100.000%\n"
          ]
        }
      ]
    },
    {
      "cell_type": "code",
      "source": [
        ""
      ],
      "metadata": {
        "id": "Us5wvkpbxI6i"
      },
      "execution_count": null,
      "outputs": []
    }
  ]
}